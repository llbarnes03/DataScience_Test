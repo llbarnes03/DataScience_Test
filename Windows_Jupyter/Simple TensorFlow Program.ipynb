{
 "cells": [
  {
   "cell_type": "code",
   "execution_count": 39,
   "metadata": {},
   "outputs": [],
   "source": [
    "import tensorflow as tf"
   ]
  },
  {
   "cell_type": "code",
   "execution_count": 40,
   "metadata": {},
   "outputs": [],
   "source": [
    "# Create a graph\n",
    "g = tf.Graph()"
   ]
  },
  {
   "cell_type": "code",
   "execution_count": 45,
   "metadata": {},
   "outputs": [
    {
     "name": "stdout",
     "output_type": "stream",
     "text": [
      "17\n"
     ]
    }
   ],
   "source": [
    "# Establish the graph as the \"default\" graph.\n",
    "with g.as_default():\n",
    "    # Assemble a graph consisting of the following three operations\n",
    "    #    * Two tf.constant operations to create the operands\n",
    "    #    * One tf.add operation to add the two operands.\n",
    "    x = tf.constant(8, name=\"x_const\")\n",
    "    y = tf.constant(5, name=\"y_const\")\n",
    "    z = tf.constant(4, name=\"z_const\")\n",
    "    my_sum = tf.add(x, y, name=\"x_y_sum\")\n",
    "    new_sum = tf.add(z, my_sum, name=\"z_mysum_sum\")\n",
    "# Now create a session\n",
    "# The session will run the default graph\n",
    "    with tf.Session() as sess:\n",
    "        print (new_sum.eval())"
   ]
  },
  {
   "cell_type": "code",
   "execution_count": null,
   "metadata": {},
   "outputs": [],
   "source": []
  }
 ],
 "metadata": {
  "kernelspec": {
   "display_name": "Python 3",
   "language": "python",
   "name": "python3"
  },
  "language_info": {
   "codemirror_mode": {
    "name": "ipython",
    "version": 3
   },
   "file_extension": ".py",
   "mimetype": "text/x-python",
   "name": "python",
   "nbconvert_exporter": "python",
   "pygments_lexer": "ipython3",
   "version": "3.6.5"
  }
 },
 "nbformat": 4,
 "nbformat_minor": 2
}
